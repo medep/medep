{
 "cells": [
  {
   "cell_type": "markdown",
   "metadata": {
    "slideshow": {
     "slide_type": "slide"
    }
   },
   "source": [
    "# Case study example: Literature related to vaccination and treatment plans\n",
    "\n",
    "In the first case study, we will explore, whether the existing COVID-19-related literature, that focuses on vaccines and treatment programs clusters in well defined topics that could help medical professionals further explore the existing studies. The case study is structured as follows.\n",
    "\n",
    "1. Using unsupervised keyword detection, we annotated all existing COVID-19-related literature\n",
    "2. **MeDEP** offers simple API access to the annotated documents\n",
    "3. An example where vaccination-related literature is explored is shown next!"
   ]
  },
  {
   "cell_type": "code",
   "execution_count": 2,
   "metadata": {
    "slideshow": {
     "slide_type": "subslide"
    }
   },
   "outputs": [
    {
     "name": "stderr",
     "output_type": "stream",
     "text": [
      "[nltk_data] Downloading package wordnet to /home/blazs/nltk_data...\n",
      "[nltk_data]   Package wordnet is already up-to-date!\n",
      "[nltk_data] Downloading package stopwords to /home/blazs/nltk_data...\n",
      "[nltk_data]   Package stopwords is already up-to-date!\n"
     ]
    }
   ],
   "source": [
    "## the code corresponding to c1.\n",
    "import json\n",
    "import requests\n",
    "from nltk.stem.wordnet import WordNetLemmatizer\n",
    "from nltk.corpus import wordnet as wn\n",
    "import nltk\n",
    "from gensim import corpora\n",
    "nltk.download('wordnet')\n",
    "nltk.download('stopwords')\n",
    "en_stop = set(nltk.corpus.stopwords.words('english'))\n",
    "from gensim.models.ldamodel import LdaModel\n",
    "\n",
    "def get_lemma(word):\n",
    "    lemma = wn.morphy(word)\n",
    "    if lemma is None:\n",
    "        return word\n",
    "    else:\n",
    "        return lemma\n",
    "    \n",
    "def get_lemma2(word):\n",
    "    return WordNetLemmatizer().lemmatize(word)\n",
    "\n",
    "def prepare_text_for_lda(text):\n",
    "    tokens = text.split(\" \")\n",
    "    tokens = [token for token in tokens if len(token) > 4]\n",
    "    tokens = [token for token in tokens if token not in en_stop]\n",
    "    tokens = [get_lemma(token) for token in tokens]\n",
    "    return tokens\n"
   ]
  },
  {
   "cell_type": "markdown",
   "metadata": {
    "slideshow": {
     "slide_type": "subslide"
    }
   },
   "source": [
    "The above we first define some functions, that shall be used for the preprocessing purposes. Next, we simply quarry the API to fetch the documents, most related to the user specified keywords (interesting keywords)."
   ]
  },
  {
   "cell_type": "code",
   "execution_count": 3,
   "metadata": {
    "slideshow": {
     "slide_type": "subslide"
    }
   },
   "outputs": [],
   "source": [
    "interesting_keywords = [\"covid-19\",\"vaccines\",\"treatment\"]\n",
    "json_data_all = []\n",
    "for keyword in interesting_keywords:\n",
    "    example_query = \"http://covid19explorer.ijs.si/gp/api?keyword={}\".format(keyword)\n",
    "    response = requests.get(example_query)\n",
    "    json_data = json.loads(response.text)\n",
    "    json_data_all+=json_data\n",
    "\n",
    "## get scores and titles\n",
    "top_docs = []\n",
    "for hit in json_data_all:\n",
    "    title, abstract = hit['article_title'], hit['article_abstract']\n",
    "    if len(abstract) > 30:\n",
    "        top_docs.append(abstract)\n",
    "\n",
    "## clean\n",
    "clean_text = []\n",
    "for el in top_docs:\n",
    "    tokens = prepare_text_for_lda(el)\n",
    "    clean_text.append(tokens)\n"
   ]
  },
  {
   "cell_type": "markdown",
   "metadata": {
    "slideshow": {
     "slide_type": "-"
    }
   },
   "source": [
    "Finally, let's use GENSIM's LDA package to detect some topics!"
   ]
  },
  {
   "cell_type": "code",
   "execution_count": 4,
   "metadata": {
    "slideshow": {
     "slide_type": "subslide"
    }
   },
   "outputs": [],
   "source": [
    "dictionary = corpora.Dictionary(clean_text)\n",
    "corpus = [dictionary.doc2bow(text) for text in clean_text]\n",
    "\n",
    "NUM_TOPICS = 10\n",
    "ldamodel = LdaModel(corpus, num_topics = NUM_TOPICS, id2word=dictionary, passes=15)\n",
    "\n",
    "topics = ldamodel.print_topics(num_words=5)"
   ]
  },
  {
   "cell_type": "markdown",
   "metadata": {
    "slideshow": {
     "slide_type": "slide"
    }
   },
   "source": [
    "What are the representative words in these topics?"
   ]
  },
  {
   "cell_type": "code",
   "execution_count": 20,
   "metadata": {
    "slideshow": {
     "slide_type": "slide"
    }
   },
   "outputs": [
    {
     "name": "stdout",
     "output_type": "stream",
     "text": [
      "TOPIC 0 KEYWORDS: 0.012*\"staff\" AND  0.010*\"disease\" AND  0.009*\"treatment\" \n",
      "TOPIC 1 KEYWORDS: 0.020*\"vaccine\" AND  0.006*\"animal\" AND  0.006*\"treatment\" \n",
      "TOPIC 2 KEYWORDS: 0.014*\"disease\" AND  0.011*\"infectious\" AND  0.008*\"vaccine\" \n",
      "TOPIC 3 KEYWORDS: 0.023*\"vaccine\" AND  0.010*\"respiratory\" AND  0.007*\"delivery\" \n",
      "TOPIC 4 KEYWORDS: 0.010*\"treatment\" AND  0.010*\"group\" AND  0.006*\"disease\" \n",
      "TOPIC 5 KEYWORDS: 0.036*\"vaccine\" AND  0.010*\"animal\" AND  0.009*\"disease\" \n",
      "TOPIC 6 KEYWORDS: 0.000*\"vaccine\" AND  0.000*\"animal\" AND  0.000*\"human\" \n",
      "TOPIC 7 KEYWORDS: 0.014*\"treatment\" AND  0.014*\"week\" AND  0.009*\"patient\" \n",
      "TOPIC 8 KEYWORDS: 0.024*\"vaccine\" AND  0.015*\"treatment\" AND  0.010*\"vaccination\" \n",
      "TOPIC 9 KEYWORDS: 0.020*\"vaccine\" AND  0.010*\"animal\" AND  0.010*\"treatment\" \n"
     ]
    }
   ],
   "source": [
    "for enx, topic in enumerate(topics):\n",
    "    print(\"TOPIC {} KEYWORDS: \".format(enx)+\"AND \".join(topic[1].split(\"+\")[0:3]))"
   ]
  },
  {
   "cell_type": "markdown",
   "metadata": {
    "slideshow": {
     "slide_type": "slide"
    }
   },
   "source": [
    "As we can see, there exist various sub-topics that might be of interest to a medical professional. To explore the abstracts in more detail, abstracts can be fetched too!"
   ]
  },
  {
   "cell_type": "code",
   "execution_count": 6,
   "metadata": {
    "slideshow": {
     "slide_type": "subslide"
    }
   },
   "outputs": [
    {
     "data": {
      "text/plain": [
       "'Currently, Severe Acute Respiratory Syndrome Coronavirus 2 (SARS-CoV-2, formerly known as 2019-nCoV, the causative pathogen of Coronavirus Disease 2019 (COVID-19)) has rapidly spread across China and around the world, causing an outbreak of acute infectious pneumonia. No specific anti-virus drugs or vaccines are available for the treatment of this sudden and lethal disease. The supportive care and non-specific treatment to ameliorate the symptoms of the patient are the only options currently. At the top of these conventional therapies, greater than 85% of SARS-CoV-2 infected patients in China are receiving Traditional Chinese Medicine (TCM) treatment. In this article, relevant published literatures are thoroughly reviewed and current applications of TCM in the treatment of COVID-19 patients are analyzed. Due to the homology in epidemiology, genomics, and pathogenesis of the SARS-CoV-2 and SARS-CoV, and the widely use of TCM in the treatment of SARS-CoV, the clinical evidence showing the beneficial effect of TCM in the treatment of patients with SARS coronaviral infections are discussed. Current experiment studies that provide an insight into the mechanism underlying the therapeutic effect of TCM, and those studies identified novel naturally occurring compounds with anti-coronaviral activity are also introduced.'"
      ]
     },
     "execution_count": 6,
     "metadata": {},
     "output_type": "execute_result"
    }
   ],
   "source": [
    "top_docs[-1]"
   ]
  },
  {
   "cell_type": "code",
   "execution_count": 7,
   "metadata": {
    "slideshow": {
     "slide_type": "slide"
    }
   },
   "outputs": [
    {
     "data": {
      "text/plain": [
       "'COVID-19 is a novel coronavirus with an outbreak of unusual viral pneumonia in Wuhan, China, and then pandemic. Based on its phylogenetic relationships and genomic structures the COVID-19 belongs to genera Betacoronavirus. Human Betacoronaviruses (SARS-CoV-2, SARS-CoV, and MERS-CoV) have many similarities, but also have differences in their genomic and phenotypic structure that can influence their pathogenesis. COVID-19 is containing single-stranded (positive-sense) RNA associated with a nucleoprotein within a capsid comprised of matrix protein. A typical CoV contains at least six ORFs in its genome.'"
      ]
     },
     "execution_count": 7,
     "metadata": {},
     "output_type": "execute_result"
    }
   ],
   "source": [
    "top_docs[3]"
   ]
  }
 ],
 "metadata": {
  "celltoolbar": "Slideshow",
  "kernelspec": {
   "display_name": "Python 3",
   "language": "python",
   "name": "python3"
  },
  "language_info": {
   "codemirror_mode": {
    "name": "ipython",
    "version": 3
   },
   "file_extension": ".py",
   "mimetype": "text/x-python",
   "name": "python",
   "nbconvert_exporter": "python",
   "pygments_lexer": "ipython3",
   "version": "3.7.3"
  }
 },
 "nbformat": 4,
 "nbformat_minor": 4
}
