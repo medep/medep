{
 "cells": [
  {
   "cell_type": "markdown",
   "metadata": {
    "slideshow": {
     "slide_type": "slide"
    }
   },
   "source": [
    "# Case study example: Literature related to vaccination and treatment plans\n",
    "\n",
    "In the first case study, we will explore, whether the existing COVID-19-related literature, that focuses on vaccines and treatment programs clusters in well defined topics that could help medical professionals further explore the existing studies. The case study is structured as follows.\n",
    "\n",
    "1. Using unsupervised keyword detection, we annotated all existing COVID-19-related literature\n",
    "2. **MeDEP** offers simple API access to the annotated documents\n",
    "3. An example where vaccination-related literature is explored is shown next!"
   ]
  },
  {
   "cell_type": "code",
   "execution_count": 1,
   "metadata": {
    "slideshow": {
     "slide_type": "subslide"
    }
   },
   "outputs": [
    {
     "name": "stderr",
     "output_type": "stream",
     "text": [
      "[nltk_data] Downloading package wordnet to /home/blazs/nltk_data...\n",
      "[nltk_data]   Package wordnet is already up-to-date!\n",
      "[nltk_data] Downloading package stopwords to /home/blazs/nltk_data...\n",
      "[nltk_data]   Package stopwords is already up-to-date!\n"
     ]
    }
   ],
   "source": [
    "## the code corresponding to c1.\n",
    "import json\n",
    "import requests\n",
    "from nltk.stem.wordnet import WordNetLemmatizer\n",
    "from nltk.corpus import wordnet as wn\n",
    "import nltk\n",
    "from gensim import corpora\n",
    "nltk.download('wordnet')\n",
    "nltk.download('stopwords')\n",
    "en_stop = set(nltk.corpus.stopwords.words('english'))\n",
    "from gensim.models.ldamodel import LdaModel\n",
    "\n",
    "def get_lemma(word):\n",
    "    lemma = wn.morphy(word)\n",
    "    if lemma is None:\n",
    "        return word\n",
    "    else:\n",
    "        return lemma\n",
    "    \n",
    "def get_lemma2(word):\n",
    "    return WordNetLemmatizer().lemmatize(word)\n",
    "\n",
    "def prepare_text_for_lda(text):\n",
    "    tokens = text.split(\" \")\n",
    "    tokens = [token for token in tokens if len(token) > 4]\n",
    "    tokens = [token for token in tokens if token not in en_stop]\n",
    "    tokens = [get_lemma(token) for token in tokens]\n",
    "    return tokens\n"
   ]
  },
  {
   "cell_type": "markdown",
   "metadata": {
    "slideshow": {
     "slide_type": "subslide"
    }
   },
   "source": [
    "The above we first define some functions, that shall be used for the preprocessing purposes. Next, we simply quarry the API to fetch the documents, most related to the user specified keywords (interesting keywords)."
   ]
  },
  {
   "cell_type": "code",
   "execution_count": 2,
   "metadata": {
    "slideshow": {
     "slide_type": "subslide"
    }
   },
   "outputs": [],
   "source": [
    "interesting_keywords = [\"covid-19\",\"vaccines\",\"treatment\"]\n",
    "json_data_all = []\n",
    "for keyword in interesting_keywords:\n",
    "    example_query = \"http://covid19explorer.ijs.si/gp/api?keyword={}\".format(keyword)\n",
    "    response = requests.get(example_query)\n",
    "    json_data = json.loads(response.text)\n",
    "    json_data_all+=json_data\n",
    "\n",
    "## get scores and titles\n",
    "top_docs = []\n",
    "for hit in json_data_all:\n",
    "    title, abstract = hit['article_title'], hit['article_abstract']\n",
    "    if len(abstract) > 30:\n",
    "        top_docs.append(abstract)\n",
    "\n",
    "## clean\n",
    "clean_text = []\n",
    "for el in top_docs:\n",
    "    tokens = prepare_text_for_lda(el)\n",
    "    clean_text.append(tokens)\n"
   ]
  },
  {
   "cell_type": "markdown",
   "metadata": {
    "slideshow": {
     "slide_type": "-"
    }
   },
   "source": [
    "Finally, let's use GENSIM's LDA package to detect some topics!"
   ]
  },
  {
   "cell_type": "code",
   "execution_count": 3,
   "metadata": {
    "slideshow": {
     "slide_type": "subslide"
    }
   },
   "outputs": [],
   "source": [
    "dictionary = corpora.Dictionary(clean_text)\n",
    "corpus = [dictionary.doc2bow(text) for text in clean_text]\n",
    "\n",
    "NUM_TOPICS = 10\n",
    "ldamodel = LdaModel(corpus, num_topics = NUM_TOPICS, id2word=dictionary, passes=15)\n",
    "\n",
    "topics = ldamodel.print_topics(num_words=5)"
   ]
  },
  {
   "cell_type": "markdown",
   "metadata": {
    "slideshow": {
     "slide_type": "slide"
    }
   },
   "source": [
    "What are the representative words in these topics?"
   ]
  },
  {
   "cell_type": "code",
   "execution_count": 4,
   "metadata": {
    "slideshow": {
     "slide_type": "slide"
    }
   },
   "outputs": [
    {
     "name": "stdout",
     "output_type": "stream",
     "text": [
      "(0, '0.029*\"vaccine\" + 0.010*\"immune\" + 0.007*\"system\" + 0.007*\"immunity\" + 0.007*\"vaccines,\"')\n",
      "(1, '0.010*\"pathogen\" + 0.008*\"significant\" + 0.006*\"lupus\" + 0.006*\"review\" + 0.006*\"water\"')\n",
      "(2, '0.015*\"vaccine\" + 0.012*\"treatment\" + 0.007*\"patient\" + 0.005*\"potential\" + 0.005*\"widely\"')\n",
      "(3, '0.013*\"COVID-19\" + 0.009*\"resident\" + 0.009*\"pneumonia\" + 0.009*\"nursing\" + 0.008*\"towards\"')\n",
      "(4, '0.016*\"treatment\" + 0.016*\"vaccine\" + 0.008*\"disease\" + 0.007*\"veterinary\" + 0.007*\"periodontal\"')\n",
      "(5, '0.018*\"treatment\" + 0.014*\"patient\" + 0.011*\"acute\" + 0.009*\"respiratory\" + 0.008*\"severe\"')\n",
      "(6, '0.018*\"treatment\" + 0.011*\"week\" + 0.008*\"month\" + 0.008*\"treat\" + 0.007*\"case\"')\n",
      "(7, '0.043*\"vaccine\" + 0.016*\"animal\" + 0.008*\"vaccines.\" + 0.008*\"human\" + 0.007*\"include\"')\n",
      "(8, '0.011*\"treatment\" + 0.011*\"disease\" + 0.010*\"COVID-19\" + 0.009*\"safety\" + 0.008*\"Symptoma\"')\n",
      "(9, '0.026*\"vaccine\" + 0.018*\"disease\" + 0.018*\"infectious\" + 0.009*\"strategy\" + 0.008*\"vaccination\"')\n"
     ]
    }
   ],
   "source": [
    "for topic in topics:\n",
    "    print(topic)"
   ]
  },
  {
   "cell_type": "markdown",
   "metadata": {
    "slideshow": {
     "slide_type": "slide"
    }
   },
   "source": [
    "As we can see, there exist various sub-topics that might be of interest to a medical professional. To explore the abstracts in more detail, abstracts can be fetched too!"
   ]
  },
  {
   "cell_type": "code",
   "execution_count": 5,
   "metadata": {
    "slideshow": {
     "slide_type": "subslide"
    }
   },
   "outputs": [
    {
     "data": {
      "text/plain": [
       "'Currently, Severe Acute Respiratory Syndrome Coronavirus 2 (SARS-CoV-2, formerly known as 2019-nCoV, the causative pathogen of Coronavirus Disease 2019 (COVID-19)) has rapidly spread across China and around the world, causing an outbreak of acute infectious pneumonia. No specific anti-virus drugs or vaccines are available for the treatment of this sudden and lethal disease. The supportive care and non-specific treatment to ameliorate the symptoms of the patient are the only options currently. At the top of these conventional therapies, greater than 85% of SARS-CoV-2 infected patients in China are receiving Traditional Chinese Medicine (TCM) treatment. In this article, relevant published literatures are thoroughly reviewed and current applications of TCM in the treatment of COVID-19 patients are analyzed. Due to the homology in epidemiology, genomics, and pathogenesis of the SARS-CoV-2 and SARS-CoV, and the widely use of TCM in the treatment of SARS-CoV, the clinical evidence showing the beneficial effect of TCM in the treatment of patients with SARS coronaviral infections are discussed. Current experiment studies that provide an insight into the mechanism underlying the therapeutic effect of TCM, and those studies identified novel naturally occurring compounds with anti-coronaviral activity are also introduced.'"
      ]
     },
     "execution_count": 5,
     "metadata": {},
     "output_type": "execute_result"
    }
   ],
   "source": [
    "top_docs[-1]"
   ]
  },
  {
   "cell_type": "code",
   "execution_count": 6,
   "metadata": {
    "slideshow": {
     "slide_type": "slide"
    }
   },
   "outputs": [
    {
     "data": {
      "text/plain": [
       "'COVID-19 is a novel coronavirus with an outbreak of unusual viral pneumonia in Wuhan, China, and then pandemic. Based on its phylogenetic relationships and genomic structures the COVID-19 belongs to genera Betacoronavirus. Human Betacoronaviruses (SARS-CoV-2, SARS-CoV, and MERS-CoV) have many similarities, but also have differences in their genomic and phenotypic structure that can influence their pathogenesis. COVID-19 is containing single-stranded (positive-sense) RNA associated with a nucleoprotein within a capsid comprised of matrix protein. A typical CoV contains at least six ORFs in its genome.'"
      ]
     },
     "execution_count": 6,
     "metadata": {},
     "output_type": "execute_result"
    }
   ],
   "source": [
    "top_docs[3]"
   ]
  }
 ],
 "metadata": {
  "celltoolbar": "Slideshow",
  "kernelspec": {
   "display_name": "Python 3",
   "language": "python",
   "name": "python3"
  },
  "language_info": {
   "codemirror_mode": {
    "name": "ipython",
    "version": 3
   },
   "file_extension": ".py",
   "mimetype": "text/x-python",
   "name": "python",
   "nbconvert_exporter": "python",
   "pygments_lexer": "ipython3",
   "version": "3.7.3"
  }
 },
 "nbformat": 4,
 "nbformat_minor": 4
}
