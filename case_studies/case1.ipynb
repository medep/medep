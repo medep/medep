{
 "cells": [
  {
   "cell_type": "markdown",
   "metadata": {},
   "source": [
    "# Case study example -- vaccination related literature topic detection\n",
    "\n",
    "In the first case study, we will explore, whether the existing COVID-19-related literature, that focuses on vaccines and treatment programs clusters in well defined topics that could help medical professionals further explore the existing studies. The case study is structured as follows.\n",
    "\n",
    "1. Description of the preprocessing machinery and the request-ready API we designed around CORD-19 data set.\n",
    "2. An example run, that is completely interactive\n",
    "3. Discussion of results"
   ]
  },
  {
   "cell_type": "code",
   "execution_count": 1,
   "metadata": {},
   "outputs": [
    {
     "name": "stderr",
     "output_type": "stream",
     "text": [
      "[nltk_data] Downloading package wordnet to /home/blazs/nltk_data...\n",
      "[nltk_data]   Package wordnet is already up-to-date!\n",
      "[nltk_data] Downloading package stopwords to /home/blazs/nltk_data...\n",
      "[nltk_data]   Package stopwords is already up-to-date!\n"
     ]
    }
   ],
   "source": [
    "## the code corresponding to c1.\n",
    "import json\n",
    "import requests\n",
    "from nltk.stem.wordnet import WordNetLemmatizer\n",
    "from nltk.corpus import wordnet as wn\n",
    "import nltk\n",
    "from gensim import corpora\n",
    "nltk.download('wordnet')\n",
    "nltk.download('stopwords')\n",
    "en_stop = set(nltk.corpus.stopwords.words('english'))\n",
    "from gensim.models.ldamodel import LdaModel\n",
    "\n",
    "def get_lemma(word):\n",
    "    lemma = wn.morphy(word)\n",
    "    if lemma is None:\n",
    "        return word\n",
    "    else:\n",
    "        return lemma\n",
    "    \n",
    "def get_lemma2(word):\n",
    "    return WordNetLemmatizer().lemmatize(word)\n",
    "\n",
    "def prepare_text_for_lda(text):\n",
    "    tokens = text.split(\" \")\n",
    "    tokens = [token for token in tokens if len(token) > 4]\n",
    "    tokens = [token for token in tokens if token not in en_stop]\n",
    "    tokens = [get_lemma(token) for token in tokens]\n",
    "    return tokens\n"
   ]
  },
  {
   "cell_type": "markdown",
   "metadata": {},
   "source": [
    "The above we first define some functions, that shall be used for the preprocessing purposes. Next, we simply quarry the API to fetch the documents, most related to the user specified keywords (interesting keywords)."
   ]
  },
  {
   "cell_type": "code",
   "execution_count": 10,
   "metadata": {},
   "outputs": [],
   "source": [
    "interesting_keywords = [\"covid-19\",\"vaccines\",\"treatment\"]\n",
    "json_data_all = []\n",
    "for keyword in interesting_keywords:\n",
    "    example_query = \"http://covid19explorer.ijs.si/gp/api?keyword={}\".format(keyword)\n",
    "    response = requests.get(example_query)\n",
    "    json_data = json.loads(response.text)\n",
    "    json_data_all+=json_data\n",
    "\n",
    "## get scores and titles\n",
    "top_docs = []\n",
    "for hit in json_data_all:\n",
    "    title, abstract = hit['article_title'], hit['article_abstract']\n",
    "    if len(abstract) > 30:\n",
    "        top_docs.append(abstract)\n",
    "\n",
    "## clean\n",
    "clean_text = []\n",
    "for el in top_docs:\n",
    "    tokens = prepare_text_for_lda(el)\n",
    "    clean_text.append(tokens)\n"
   ]
  },
  {
   "cell_type": "markdown",
   "metadata": {},
   "source": [
    "Finally, let's use GENSIM's LDA package to detect some topics!"
   ]
  },
  {
   "cell_type": "code",
   "execution_count": 11,
   "metadata": {},
   "outputs": [],
   "source": [
    "dictionary = corpora.Dictionary(clean_text)\n",
    "corpus = [dictionary.doc2bow(text) for text in clean_text]\n",
    "\n",
    "NUM_TOPICS = 10\n",
    "ldamodel = LdaModel(corpus, num_topics = NUM_TOPICS, id2word=dictionary, passes=15)\n",
    "\n",
    "topics = ldamodel.print_topics(num_words=5)"
   ]
  },
  {
   "cell_type": "markdown",
   "metadata": {},
   "source": [
    "What are the representative words in these topics?"
   ]
  },
  {
   "cell_type": "code",
   "execution_count": 12,
   "metadata": {},
   "outputs": [
    {
     "name": "stdout",
     "output_type": "stream",
     "text": [
      "(0, '0.012*\"Symptoma\" + 0.011*\"treatment\" + 0.009*\"case\" + 0.009*\"clinical\" + 0.008*\"number\"')\n",
      "(1, '0.011*\"treatment\" + 0.009*\"relapse\" + 0.008*\"remain\" + 0.007*\"disease\" + 0.007*\"treat\"')\n",
      "(2, '0.027*\"vaccine\" + 0.009*\"periodontal\" + 0.009*\"gulae\" + 0.007*\"disease\" + 0.007*\"edible\"')\n",
      "(3, '0.017*\"treatment\" + 0.015*\"vaccine\" + 0.009*\"group\" + 0.007*\"veterinary\" + 0.007*\"current\"')\n",
      "(4, '0.018*\"vaccine\" + 0.017*\"disease\" + 0.013*\"infectious\" + 0.009*\"control\" + 0.008*\"potential\"')\n",
      "(5, '0.042*\"vaccine\" + 0.016*\"animal\" + 0.014*\"human\" + 0.010*\"method\" + 0.009*\"vaccines.\"')\n",
      "(6, '0.013*\"vaccine\" + 0.007*\"infection\" + 0.005*\"pneumonia\" + 0.005*\"lupus\" + 0.005*\"problem\"')\n",
      "(7, '0.014*\"vaccine\" + 0.011*\"disease\" + 0.009*\"week\" + 0.008*\"safety\" + 0.007*\"COVID-19\"')\n",
      "(8, '0.018*\"vaccine\" + 0.009*\"staff\" + 0.008*\"health\" + 0.008*\"medical\" + 0.007*\"include\"')\n",
      "(9, '0.018*\"treatment\" + 0.012*\"vaccine\" + 0.008*\"reaction\" + 0.008*\"acute\" + 0.007*\"patient\"')\n"
     ]
    }
   ],
   "source": [
    "for topic in topics:\n",
    "    print(topic)"
   ]
  },
  {
   "cell_type": "markdown",
   "metadata": {},
   "source": [
    "As we can see, there exist various sub-topics that might be of interest to a medical professional. To explore the abstracts in more detail, abstracts can be fetched too!"
   ]
  },
  {
   "cell_type": "code",
   "execution_count": 14,
   "metadata": {},
   "outputs": [
    {
     "data": {
      "text/plain": [
       "'Currently, Severe Acute Respiratory Syndrome Coronavirus 2 (SARS-CoV-2, formerly known as 2019-nCoV, the causative pathogen of Coronavirus Disease 2019 (COVID-19)) has rapidly spread across China and around the world, causing an outbreak of acute infectious pneumonia. No specific anti-virus drugs or vaccines are available for the treatment of this sudden and lethal disease. The supportive care and non-specific treatment to ameliorate the symptoms of the patient are the only options currently. At the top of these conventional therapies, greater than 85% of SARS-CoV-2 infected patients in China are receiving Traditional Chinese Medicine (TCM) treatment. In this article, relevant published literatures are thoroughly reviewed and current applications of TCM in the treatment of COVID-19 patients are analyzed. Due to the homology in epidemiology, genomics, and pathogenesis of the SARS-CoV-2 and SARS-CoV, and the widely use of TCM in the treatment of SARS-CoV, the clinical evidence showing the beneficial effect of TCM in the treatment of patients with SARS coronaviral infections are discussed. Current experiment studies that provide an insight into the mechanism underlying the therapeutic effect of TCM, and those studies identified novel naturally occurring compounds with anti-coronaviral activity are also introduced.'"
      ]
     },
     "execution_count": 14,
     "metadata": {},
     "output_type": "execute_result"
    }
   ],
   "source": [
    "top_docs[-1]"
   ]
  }
 ],
 "metadata": {
  "kernelspec": {
   "display_name": "Python 3",
   "language": "python",
   "name": "python3"
  },
  "language_info": {
   "codemirror_mode": {
    "name": "ipython",
    "version": 3
   },
   "file_extension": ".py",
   "mimetype": "text/x-python",
   "name": "python",
   "nbconvert_exporter": "python",
   "pygments_lexer": "ipython3",
   "version": "3.7.3"
  }
 },
 "nbformat": 4,
 "nbformat_minor": 4
}
